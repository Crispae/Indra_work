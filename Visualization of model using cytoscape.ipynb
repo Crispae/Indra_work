{
 "cells": [
  {
   "cell_type": "markdown",
   "id": "74be4b95",
   "metadata": {},
   "source": [
    "### Visualizing network with data generated with INDRA"
   ]
  },
  {
   "cell_type": "code",
   "execution_count": 1,
   "id": "51a12d67",
   "metadata": {},
   "outputs": [],
   "source": [
    "import ipycytoscape"
   ]
  },
  {
   "cell_type": "code",
   "execution_count": 2,
   "id": "a77d8442",
   "metadata": {},
   "outputs": [],
   "source": [
    "### loading network as JSON\n",
    "import json\n",
    "with open(\"model.json\") as f1:\n",
    "    json_file = json.load(f1)"
   ]
  },
  {
   "cell_type": "code",
   "execution_count": 3,
   "id": "5c3fe440",
   "metadata": {},
   "outputs": [],
   "source": [
    "### Style for the network\n",
    "my_style = [{\n",
    "                        'selector': 'node',\n",
    "                        'css': {\n",
    "                            'content': 'data(name)',\n",
    "                            'text-valign': 'center',\n",
    "                            'color': 'white',\n",
    "                            'text-outline-width': 2,\n",
    "                            'text-outline-color': 'green',\n",
    "                            'background-color': 'green',\n",
    "                            'shape':'round-rectangle'\n",
    "                        }\n",
    "                        },\n",
    "                        {\n",
    "                        'selector': ':selected',\n",
    "                        'css': {\n",
    "                            'background-color': 'black',\n",
    "                            'line-color': 'black',\n",
    "                            'target-arrow-color': 'black',\n",
    "                            'source-arrow-color': 'black',\n",
    "                            'text-outline-color': 'black'\n",
    "                        }}\n",
    "                        ]"
   ]
  },
  {
   "cell_type": "code",
   "execution_count": 4,
   "id": "575279e8",
   "metadata": {},
   "outputs": [],
   "source": [
    "## Initiating cytoscape ohject and feeding json data\n",
    "obj = ipycytoscape.CytoscapeWidget()\n",
    "obj.graph.add_graph_from_json(json_file)\n",
    "obj.set_style(my_style)"
   ]
  },
  {
   "cell_type": "code",
   "execution_count": 8,
   "id": "1002e927",
   "metadata": {},
   "outputs": [],
   "source": [
    "### layouting the whole network\n",
    "obj.set_layout(name=\"cola\",\n",
    "              nodeSpacing=5,\n",
    "              edgeLengthVal=45,\n",
    "              animate=True,\n",
    "              randomize=False,\n",
    "              maxSimulationTime=1500)"
   ]
  },
  {
   "cell_type": "code",
   "execution_count": 10,
   "id": "e8c9d698",
   "metadata": {},
   "outputs": [
    {
     "data": {
      "application/vnd.jupyter.widget-view+json": {
       "model_id": "2b143d82a2684d53bd6fdd181a445149",
       "version_major": 2,
       "version_minor": 0
      },
      "text/plain": [
       "CytoscapeWidget(cytoscape_layout={'name': 'cola', 'nodeSpacing': 5, 'edgeLengthVal': 45, 'animate': True, 'ran…"
      ]
     },
     "metadata": {},
     "output_type": "display_data"
    }
   ],
   "source": [
    "## View Space\n",
    "obj"
   ]
  },
  {
   "cell_type": "code",
   "execution_count": null,
   "id": "c5e28631",
   "metadata": {},
   "outputs": [],
   "source": []
  }
 ],
 "metadata": {
  "kernelspec": {
   "display_name": "Python 3 (ipykernel)",
   "language": "python",
   "name": "python3"
  },
  "language_info": {
   "codemirror_mode": {
    "name": "ipython",
    "version": 3
   },
   "file_extension": ".py",
   "mimetype": "text/x-python",
   "name": "python",
   "nbconvert_exporter": "python",
   "pygments_lexer": "ipython3",
   "version": "3.9.13"
  }
 },
 "nbformat": 4,
 "nbformat_minor": 5
}
