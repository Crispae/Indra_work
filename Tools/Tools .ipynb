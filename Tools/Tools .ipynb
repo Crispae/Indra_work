{
 "cells": [
  {
   "cell_type": "code",
   "execution_count": 1,
   "id": "b24f27c6",
   "metadata": {},
   "outputs": [
    {
     "name": "stderr",
     "output_type": "stream",
     "text": [
      "WARNING: [2022-10-06 19:00:35] indra.sources.reach.api - Could not import jnius, offline reading option will not be available.\n"
     ]
    }
   ],
   "source": [
    "import indra\n",
    "from indra.tools import assemble_corpus\n",
    "from indra.sources.reach.api import process_pmc ## directly process using PMC article.\n",
    "from indra.sources.reach.api import process_pubmed_abstract"
   ]
  },
  {
   "cell_type": "code",
   "execution_count": 2,
   "id": "52a2efc9",
   "metadata": {},
   "outputs": [
    {
     "name": "stderr",
     "output_type": "stream",
     "text": [
      "INFO: [2022-10-06 19:00:38] indra.sources.reach.api - Loading PMC3108116 from PMC\n",
      "INFO: [2022-10-06 19:00:39] indra.sources.reach.api - Looking up PMID for PMC3108116\n",
      "INFO: [2022-10-06 19:00:39] indra.sources.reach.api - Processing PMC3108116 with REACH\n",
      "INFO: [2022-10-06 19:02:47] indra.ontology.bio.ontology - Loading INDRA bio ontology from cache at C:\\Users\\Y-8874903-E.ESTUDIANT\\.indra\\bio_ontology\\1.27\\bio_ontology.pkl\n"
     ]
    }
   ],
   "source": [
    "## Trying with article present in PMC paper\n",
    "pmc_stat = process_pmc(\"PMC3108116\")"
   ]
  },
  {
   "cell_type": "code",
   "execution_count": 3,
   "id": "451bbf62",
   "metadata": {},
   "outputs": [
    {
     "data": {
      "text/plain": [
       "[IncreaseAmount(hdac1-a(), IL5()),\n",
       " IncreaseAmount(hdac1-a(), IL10()),\n",
       " IncreaseAmount(hdac1-a(), IL13()),\n",
       " IncreaseAmount(hdac1-a(), IFN-γ()),\n",
       " IncreaseAmount(hdac1-a(), IL9())]"
      ]
     },
     "execution_count": 3,
     "metadata": {},
     "output_type": "execute_result"
    }
   ],
   "source": [
    "### Generated indra statements\n",
    "pmc_stat.statements ## return a ReachProcessor object"
   ]
  },
  {
   "cell_type": "code",
   "execution_count": 4,
   "id": "c66617e1",
   "metadata": {},
   "outputs": [],
   "source": [
    "### Trying with article with pubmed \n",
    "pub_abs = process_pubmed_abstract(\"36171879\",)"
   ]
  },
  {
   "cell_type": "code",
   "execution_count": 20,
   "id": "f3f21a88",
   "metadata": {},
   "outputs": [
    {
     "data": {
      "text/plain": [
       "[Complex(HSPB3(), CAMP())]"
      ]
     },
     "execution_count": 20,
     "metadata": {},
     "output_type": "execute_result"
    }
   ],
   "source": [
    "### Generate indra statements\n",
    "pub_abs.statements"
   ]
  },
  {
   "cell_type": "code",
   "execution_count": 5,
   "id": "f033b8e9",
   "metadata": {},
   "outputs": [],
   "source": [
    "## extending the statements lists\n",
    "pmc_stat.statements.extend(pub_abs.statements)"
   ]
  },
  {
   "cell_type": "code",
   "execution_count": 6,
   "id": "aaa10402",
   "metadata": {},
   "outputs": [
    {
     "data": {
      "text/plain": [
       "[IncreaseAmount(hdac1-a(), IL5()),\n",
       " IncreaseAmount(hdac1-a(), IL10()),\n",
       " IncreaseAmount(hdac1-a(), IL13()),\n",
       " IncreaseAmount(hdac1-a(), IFN-γ()),\n",
       " IncreaseAmount(hdac1-a(), IL9()),\n",
       " Complex(HSPB3(), CAMP())]"
      ]
     },
     "execution_count": 6,
     "metadata": {},
     "output_type": "execute_result"
    }
   ],
   "source": [
    "pmc_stat.statements"
   ]
  },
  {
   "cell_type": "code",
   "execution_count": 7,
   "id": "522fea33",
   "metadata": {},
   "outputs": [
    {
     "name": "stderr",
     "output_type": "stream",
     "text": [
      "INFO: [2022-10-06 19:11:46] indra.tools.assemble_corpus - Filtering 6 statements to no hypothesis...\n",
      "INFO: [2022-10-06 19:11:46] indra.tools.assemble_corpus - 5 statements after filter...\n"
     ]
    }
   ],
   "source": [
    "### Using filtering tools on extracted statments\n",
    "from indra.tools.assemble_corpus import filter_no_hypothesis\n",
    "\n",
    "## Filtering no_hypothesis\n",
    "true_stat = filter_no_hypothesis(pmc_stat.statements)"
   ]
  },
  {
   "cell_type": "code",
   "execution_count": 8,
   "id": "7d47a1d8",
   "metadata": {},
   "outputs": [
    {
     "data": {
      "text/plain": [
       "[IncreaseAmount(hdac1-a(), IL5()),\n",
       " IncreaseAmount(hdac1-a(), IL10()),\n",
       " IncreaseAmount(hdac1-a(), IL13()),\n",
       " IncreaseAmount(hdac1-a(), IFN-γ()),\n",
       " IncreaseAmount(hdac1-a(), IL9())]"
      ]
     },
     "execution_count": 8,
     "metadata": {},
     "output_type": "execute_result"
    }
   ],
   "source": [
    "true_stat ## true statments "
   ]
  },
  {
   "cell_type": "code",
   "execution_count": 9,
   "id": "a6515c1d",
   "metadata": {},
   "outputs": [
    {
     "name": "stderr",
     "output_type": "stream",
     "text": [
      "INFO: [2022-10-06 19:11:54] indra.preassembler.grounding_mapper.disambiguate - INDRA DB is not available for text content retrieval for grounding disambiguation.\n",
      "INFO: [2022-10-06 19:11:54] indra.tools.assemble_corpus - Mapping grounding on 6 statements...\n",
      "INFO: [2022-10-06 19:11:54] indra.preassembler.grounding_mapper.disambiguate - INDRA DB is not available for text content retrieval for grounding disambiguation.\n",
      "INFO: [2022-10-06 19:11:54] indra.preassembler.grounding_mapper.mapper - 0 statements filtered out\n"
     ]
    }
   ],
   "source": [
    "### Entity normalization with map_grounding\n",
    "from indra.tools.assemble_corpus import map_grounding\n",
    "\n",
    "mapped = map_grounding(pmc_stat.statements)"
   ]
  },
  {
   "cell_type": "code",
   "execution_count": 10,
   "id": "cde1a582",
   "metadata": {},
   "outputs": [
    {
     "data": {
      "text/plain": [
       "[IncreaseAmount(hdac1-a(), IL5()),\n",
       " IncreaseAmount(hdac1-a(), IL10()),\n",
       " IncreaseAmount(hdac1-a(), IL13()),\n",
       " IncreaseAmount(hdac1-a(), IFNG()),\n",
       " IncreaseAmount(hdac1-a(), IL9()),\n",
       " Complex(HSPB3(), CAMP())]"
      ]
     },
     "execution_count": 10,
     "metadata": {},
     "output_type": "execute_result"
    }
   ],
   "source": [
    "mapped"
   ]
  },
  {
   "cell_type": "code",
   "execution_count": null,
   "id": "540b612c",
   "metadata": {},
   "outputs": [],
   "source": []
  }
 ],
 "metadata": {
  "kernelspec": {
   "display_name": "Python 3 (ipykernel)",
   "language": "python",
   "name": "python3"
  },
  "language_info": {
   "codemirror_mode": {
    "name": "ipython",
    "version": 3
   },
   "file_extension": ".py",
   "mimetype": "text/x-python",
   "name": "python",
   "nbconvert_exporter": "python",
   "pygments_lexer": "ipython3",
   "version": "3.9.13"
  }
 },
 "nbformat": 4,
 "nbformat_minor": 5
}
