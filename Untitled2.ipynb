{
 "cells": [
  {
   "cell_type": "code",
   "execution_count": 1,
   "id": "0a57e0fd",
   "metadata": {},
   "outputs": [],
   "source": [
    "from libsbgnpy import render, utils\n",
    "import tempfile"
   ]
  },
  {
   "cell_type": "code",
   "execution_count": 2,
   "id": "eeeda3ce",
   "metadata": {},
   "outputs": [],
   "source": [
    "sbgn = utils.read_from_file(\"sbgmodel\")"
   ]
  },
  {
   "cell_type": "code",
   "execution_count": 3,
   "id": "060766c9",
   "metadata": {},
   "outputs": [
    {
     "name": "stderr",
     "output_type": "stream",
     "text": [
      "C:\\Users\\Y-8874903-E.ESTUDIANT\\Anaconda3\\envs\\INDRA\\lib\\site-packages\\libsbgnpy\\render.py:33: SyntaxWarning: \"is not\" with a literal. Did you mean \"!=\"?\n",
      "  if file_format is not \"png\":\n",
      "C:\\Users\\Y-8874903-E.ESTUDIANT\\Anaconda3\\envs\\INDRA\\lib\\site-packages\\libsbgnpy\\render.py:33: SyntaxWarning: \"is not\" with a literal. Did you mean \"!=\"?\n",
      "  if file_format is not \"png\":\n"
     ]
    },
    {
     "ename": "PermissionError",
     "evalue": "[Errno 13] Permission denied: 'C:\\\\Users\\\\Y-8874~1.EST\\\\AppData\\\\Local\\\\Temp\\\\tmpwrhhggui.sbgn'",
     "output_type": "error",
     "traceback": [
      "\u001b[1;31m---------------------------------------------------------------------------\u001b[0m",
      "\u001b[1;31mPermissionError\u001b[0m                           Traceback (most recent call last)",
      "Input \u001b[1;32mIn [3]\u001b[0m, in \u001b[0;36m<cell line: 2>\u001b[1;34m()\u001b[0m\n\u001b[0;32m      1\u001b[0m f_png \u001b[38;5;241m=\u001b[39m tempfile\u001b[38;5;241m.\u001b[39mNamedTemporaryFile(suffix\u001b[38;5;241m=\u001b[39m\u001b[38;5;124m\"\u001b[39m\u001b[38;5;124m.png\u001b[39m\u001b[38;5;124m\"\u001b[39m)\n\u001b[1;32m----> 2\u001b[0m \u001b[43mrender\u001b[49m\u001b[38;5;241;43m.\u001b[39;49m\u001b[43mrender_sbgn\u001b[49m\u001b[43m(\u001b[49m\u001b[43msbgn\u001b[49m\u001b[43m,\u001b[49m\u001b[43m \u001b[49m\u001b[43mimage_file\u001b[49m\u001b[38;5;241;43m=\u001b[39;49m\u001b[43mf_png\u001b[49m\u001b[38;5;241;43m.\u001b[39;49m\u001b[43mname\u001b[49m\u001b[43m,\u001b[49m\n\u001b[0;32m      3\u001b[0m \u001b[43m                   \u001b[49m\u001b[43mfile_format\u001b[49m\u001b[38;5;241;43m=\u001b[39;49m\u001b[38;5;124;43m\"\u001b[39;49m\u001b[38;5;124;43mpng\u001b[39;49m\u001b[38;5;124;43m\"\u001b[39;49m\u001b[43m)\u001b[49m\n\u001b[0;32m      4\u001b[0m Image(f_png\u001b[38;5;241m.\u001b[39mname, width\u001b[38;5;241m=\u001b[39m\u001b[38;5;241m500\u001b[39m)\n",
      "File \u001b[1;32m~\\Anaconda3\\envs\\INDRA\\lib\\site-packages\\libsbgnpy\\render.py:42\u001b[0m, in \u001b[0;36mrender_sbgn\u001b[1;34m(sbgn, image_file, file_format)\u001b[0m\n\u001b[0;32m     40\u001b[0m \u001b[38;5;66;03m# Create temporary file\u001b[39;00m\n\u001b[0;32m     41\u001b[0m f_in \u001b[38;5;241m=\u001b[39m tempfile\u001b[38;5;241m.\u001b[39mNamedTemporaryFile(suffix\u001b[38;5;241m=\u001b[39m\u001b[38;5;124m\"\u001b[39m\u001b[38;5;124m.sbgn\u001b[39m\u001b[38;5;124m\"\u001b[39m)\n\u001b[1;32m---> 42\u001b[0m \u001b[43mutils\u001b[49m\u001b[38;5;241;43m.\u001b[39;49m\u001b[43mwrite_to_file\u001b[49m\u001b[43m(\u001b[49m\u001b[43msbgn\u001b[49m\u001b[43m,\u001b[49m\u001b[43m \u001b[49m\u001b[43mf_in\u001b[49m\u001b[38;5;241;43m.\u001b[39;49m\u001b[43mname\u001b[49m\u001b[43m)\u001b[49m\n\u001b[0;32m     44\u001b[0m \u001b[38;5;66;03m# Call webservice for rendering\u001b[39;00m\n\u001b[0;32m     45\u001b[0m files \u001b[38;5;241m=\u001b[39m [\n\u001b[0;32m     46\u001b[0m     (\u001b[38;5;124m\"\u001b[39m\u001b[38;5;124mfile\u001b[39m\u001b[38;5;124m\"\u001b[39m, \u001b[38;5;28mopen\u001b[39m(f_in\u001b[38;5;241m.\u001b[39mname, \u001b[38;5;124m\"\u001b[39m\u001b[38;5;124mrb\u001b[39m\u001b[38;5;124m\"\u001b[39m)),\n\u001b[0;32m     47\u001b[0m ]\n",
      "File \u001b[1;32m~\\Anaconda3\\envs\\INDRA\\lib\\site-packages\\libsbgnpy\\utils.py:27\u001b[0m, in \u001b[0;36mwrite_to_file\u001b[1;34m(sbgn, f)\u001b[0m\n\u001b[0;32m     20\u001b[0m \u001b[38;5;28;01mdef\u001b[39;00m \u001b[38;5;21mwrite_to_file\u001b[39m(sbgn, f):\n\u001b[0;32m     21\u001b[0m     \u001b[38;5;124;03m\"\"\"Write sbgn object to file.\u001b[39;00m\n\u001b[0;32m     22\u001b[0m \n\u001b[0;32m     23\u001b[0m \u001b[38;5;124;03m    :param sbgn:\u001b[39;00m\n\u001b[0;32m     24\u001b[0m \u001b[38;5;124;03m    :param f:\u001b[39;00m\n\u001b[0;32m     25\u001b[0m \u001b[38;5;124;03m    :return:\u001b[39;00m\n\u001b[0;32m     26\u001b[0m \u001b[38;5;124;03m    \"\"\"\u001b[39;00m\n\u001b[1;32m---> 27\u001b[0m     \u001b[43msbgn\u001b[49m\u001b[38;5;241;43m.\u001b[39;49m\u001b[43mwrite_file\u001b[49m\u001b[43m(\u001b[49m\u001b[43mf\u001b[49m\u001b[43m)\u001b[49m\n",
      "File \u001b[1;32m~\\Anaconda3\\envs\\INDRA\\lib\\site-packages\\libsbgnpy\\libsbgn.py:794\u001b[0m, in \u001b[0;36mSBGNBase.write_file\u001b[1;34m(self, outfile, namespace)\u001b[0m\n\u001b[0;32m    785\u001b[0m \u001b[38;5;28;01mdef\u001b[39;00m \u001b[38;5;21mwrite_file\u001b[39m(\u001b[38;5;28mself\u001b[39m, outfile, namespace\u001b[38;5;241m=\u001b[39m\u001b[38;5;124m\"\u001b[39m\u001b[38;5;124msbgn\u001b[39m\u001b[38;5;124m\"\u001b[39m):\n\u001b[0;32m    786\u001b[0m     \u001b[38;5;124;03m\"\"\"Write SBGN to file.\u001b[39;00m\n\u001b[0;32m    787\u001b[0m \n\u001b[0;32m    788\u001b[0m \u001b[38;5;124;03m    This also fixes the issues of the sbgn namespace prefix.\u001b[39;00m\n\u001b[1;32m   (...)\u001b[0m\n\u001b[0;32m    792\u001b[0m \u001b[38;5;124;03m    :return:\u001b[39;00m\n\u001b[0;32m    793\u001b[0m \u001b[38;5;124;03m    \"\"\"\u001b[39;00m\n\u001b[1;32m--> 794\u001b[0m     f \u001b[38;5;241m=\u001b[39m \u001b[38;5;28;43mopen\u001b[39;49m\u001b[43m(\u001b[49m\u001b[43moutfile\u001b[49m\u001b[43m,\u001b[49m\u001b[43m \u001b[49m\u001b[38;5;124;43m\"\u001b[39;49m\u001b[38;5;124;43mw\u001b[39;49m\u001b[38;5;124;43m\"\u001b[39;49m\u001b[43m)\u001b[49m\n\u001b[0;32m    795\u001b[0m     f\u001b[38;5;241m.\u001b[39mwrite(\u001b[38;5;124m'\u001b[39m\u001b[38;5;124m<?xml version=\u001b[39m\u001b[38;5;124m\"\u001b[39m\u001b[38;5;124m1.0\u001b[39m\u001b[38;5;124m\"\u001b[39m\u001b[38;5;124m encoding=\u001b[39m\u001b[38;5;124m\"\u001b[39m\u001b[38;5;124mUTF-8\u001b[39m\u001b[38;5;124m\"\u001b[39m\u001b[38;5;124m?>\u001b[39m\u001b[38;5;130;01m\\n\u001b[39;00m\u001b[38;5;124m'\u001b[39m)\n\u001b[0;32m    796\u001b[0m     \u001b[38;5;28mself\u001b[39m\u001b[38;5;241m.\u001b[39mexport(f, level\u001b[38;5;241m=\u001b[39m\u001b[38;5;241m0\u001b[39m, namespace_\u001b[38;5;241m=\u001b[39m\u001b[38;5;124m\"\u001b[39m\u001b[38;5;124msbgn\u001b[39m\u001b[38;5;124m\"\u001b[39m, name_\u001b[38;5;241m=\u001b[39m\u001b[38;5;124m\"\u001b[39m\u001b[38;5;124m\"\u001b[39m)\n",
      "\u001b[1;31mPermissionError\u001b[0m: [Errno 13] Permission denied: 'C:\\\\Users\\\\Y-8874~1.EST\\\\AppData\\\\Local\\\\Temp\\\\tmpwrhhggui.sbgn'"
     ]
    }
   ],
   "source": [
    "f_png = tempfile.NamedTemporaryFile(suffix=\".png\")\n",
    "render.render_sbgn(sbgn, image_file=f_png.name,\n",
    "                   file_format=\"png\")\n",
    "Image(f_png.name, width=500)"
   ]
  },
  {
   "cell_type": "code",
   "execution_count": null,
   "id": "5a91e65d",
   "metadata": {},
   "outputs": [],
   "source": []
  }
 ],
 "metadata": {
  "kernelspec": {
   "display_name": "Python 3 (ipykernel)",
   "language": "python",
   "name": "python3"
  },
  "language_info": {
   "codemirror_mode": {
    "name": "ipython",
    "version": 3
   },
   "file_extension": ".py",
   "mimetype": "text/x-python",
   "name": "python",
   "nbconvert_exporter": "python",
   "pygments_lexer": "ipython3",
   "version": "3.9.13"
  }
 },
 "nbformat": 4,
 "nbformat_minor": 5
}
