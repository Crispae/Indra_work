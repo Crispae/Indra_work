{
 "cells": [
  {
   "cell_type": "code",
   "execution_count": 18,
   "id": "50f9876b",
   "metadata": {},
   "outputs": [],
   "source": [
    "from libsbgnpy import render, utils\n",
    "import tempfile"
   ]
  },
  {
   "cell_type": "code",
   "execution_count": 19,
   "id": "7ab3d641",
   "metadata": {},
   "outputs": [],
   "source": [
    "sbgn = utils.read_from_file(\"sbgmodel\")"
   ]
  },
  {
   "cell_type": "code",
   "execution_count": null,
   "id": "fc7ea697",
   "metadata": {},
   "outputs": [],
   "source": [
    "render.render_sbgn(sbgn, image_file,\n",
    "                   file_format=\"png\")"
   ]
  }
 ],
 "metadata": {
  "kernelspec": {
   "display_name": "Python 3 (ipykernel)",
   "language": "python",
   "name": "python3"
  },
  "language_info": {
   "codemirror_mode": {
    "name": "ipython",
    "version": 3
   },
   "file_extension": ".py",
   "mimetype": "text/x-python",
   "name": "python",
   "nbconvert_exporter": "python",
   "pygments_lexer": "ipython3",
   "version": "3.9.13"
  }
 },
 "nbformat": 4,
 "nbformat_minor": 5
}
