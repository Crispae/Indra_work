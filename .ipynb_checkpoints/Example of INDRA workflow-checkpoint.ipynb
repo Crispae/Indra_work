{
 "cells": [
  {
   "cell_type": "markdown",
   "id": "1aaa78b6",
   "metadata": {},
   "source": [
    "### Testing INDRA functionality on Immunotoxicity Paper"
   ]
  },
  {
   "cell_type": "code",
   "execution_count": 1,
   "id": "a97daeb1",
   "metadata": {},
   "outputs": [
    {
     "name": "stderr",
     "output_type": "stream",
     "text": [
      "C:\\Users\\Y-8874903-E.ESTUDIANT\\Anaconda3\\envs\\INDRA\\lib\\site-packages\\pybel\\struct\\operations.py:8: TqdmExperimentalWarning: Using `tqdm.autonotebook.tqdm` in notebook mode. Use `tqdm.tqdm` instead to force console mode (e.g. in jupyter console)\n",
      "  from tqdm.autonotebook import tqdm\n",
      "WARNING: [2022-10-19 12:03:32] indra.sources.reach.api - Could not import jnius, offline reading option will not be available.\n"
     ]
    }
   ],
   "source": [
    "### Imports\n",
    "import indra\n",
    "from indra.sources import bel\n",
    "from indra.sources import trips\n",
    "from indra.sources import reach\n",
    "from indra import statements\n",
    "from indra.assemblers.pysb import PysbAssembler"
   ]
  },
  {
   "cell_type": "markdown",
   "id": "2d20dc1a",
   "metadata": {},
   "source": [
    "**Immunotoxicity of Xenobiotics in Fish: A Role for the Aryl Hydrocarbon Receptor (AhR)**  \n",
    "\n",
    "PMC:PMC8430475"
   ]
  },
  {
   "cell_type": "code",
   "execution_count": 2,
   "id": "74a1222f",
   "metadata": {},
   "outputs": [
    {
     "name": "stderr",
     "output_type": "stream",
     "text": [
      "INFO: [2022-10-19 12:03:33] indra.sources.reach.api - Loading PMC8430475 from PMC\n",
      "INFO: [2022-10-19 12:03:35] indra.sources.reach.api - Looking up PMID for PMC8430475\n",
      "INFO: [2022-10-19 12:03:35] indra.sources.reach.api - Processing PMC8430475 with REACH\n",
      "INFO: [2022-10-19 12:16:38] indra.ontology.bio.ontology - Loading INDRA bio ontology from cache at C:\\Users\\Y-8874903-E.ESTUDIANT\\.indra\\bio_ontology\\1.27\\bio_ontology.pkl\n"
     ]
    },
    {
     "name": "stdout",
     "output_type": "stream",
     "text": [
      "CPU times: total: 18 s\n",
      "Wall time: 13min 23s\n"
     ]
    }
   ],
   "source": [
    "%%time\n",
    "### Proceesing Paper with REACH\n",
    "processed_paper = reach.process_pmc(\"PMC8430475\")"
   ]
  },
  {
   "cell_type": "markdown",
   "id": "12a3c1bd",
   "metadata": {},
   "source": [
    "#### It takes 13 minutes to process one paper, it will we time expensive. Right now Reach is using web API to process the data. JAR file for reach processing can be installed on local machine to spped up the process."
   ]
  },
  {
   "cell_type": "code",
   "execution_count": 3,
   "id": "29f5f797",
   "metadata": {},
   "outputs": [
    {
     "data": {
      "text/plain": [
       "[Complex(AHR(), ARNT()),\n",
       " Activation(SH3PXD2A(), AHR()),\n",
       " Activation(AHR(), cell differentiation()),\n",
       " Activation(AHR(), cell differentiation()),\n",
       " Activation(receptor(), cell differentiation()),\n",
       " Activation(BCR(), cell differentiation()),\n",
       " Inhibition(AHR(), LPS with O-antigen()),\n",
       " Inhibition(apoptotic process(), cell differentiation()),\n",
       " Inhibition(apoptotic process(), immune response()),\n",
       " Activation(PAHs(), AHR()),\n",
       " Activation(HAHs(), AHR()),\n",
       " Activation(SH3PXD2A(), AHR()),\n",
       " Inhibition(AHR(), cyp1a1()),\n",
       " Inhibition(µg/kg TCCD(), cell population proliferation()),\n",
       " Activation(SH3PXD2A(), AHR()),\n",
       " Activation(AHR(), immune response()),\n",
       " Activation(AHR(), SH3PXD2A()),\n",
       " Inhibition(NPPA(), IMPACT()),\n",
       " Inhibition(ethylene glycol bis(2-aminoethyl)tetraacetate(), IL6()),\n",
       " Activation(PAHs(), immune response())]"
      ]
     },
     "execution_count": 3,
     "metadata": {},
     "output_type": "execute_result"
    }
   ],
   "source": [
    "### Staements generated from INDRA\n",
    "processed_paper.statements"
   ]
  },
  {
   "cell_type": "code",
   "execution_count": 5,
   "id": "666758e0",
   "metadata": {},
   "outputs": [
    {
     "data": {
      "text/plain": [
       "'{\\n \"edges\": [\\n  {\\n   \"data\": {\\n    \"i\": \"Complex\",\\n    \"id\": 2,\\n    \"polarity\": \"none\",\\n    \"source\": 0,\\n    \"target\": 1,\\n    \"uuid_list\": [\\n     \"e19a4075-675e-4172-b040-bbc68c710eb5\"\\n    ]\\n   }\\n  },\\n  {\\n   \"data\": {\\n    \"i\": \"Activation\",\\n    \"id\": 4,\\n    \"polarity\": \"positive\",\\n    \"source\": 3,\\n    \"target\": 0,\\n    \"uuid_list\": [\\n     \"4763f508-e019-43f4-947d-d3f323838a63\",\\n     \"16a53e1d-6161-4957-941d-5ad071b21129\",\\n     \"e7422bc1-c86f-44d0-8dc2-aa11984263b9\"\\n    ]\\n   }\\n  },\\n  {\\n   \"data\": {\\n    \"i\": \"Activation\",\\n    \"id\": 6,\\n    \"polarity\": \"positive\",\\n    \"source\": 0,\\n    \"target\": 5,\\n    \"uuid_list\": [\\n     \"a2dcbd7d-9772-4e8a-bb7b-7a5d48c03ee9\",\\n     \"443a515c-4bd4-4f04-8b96-fdd76a5a71c3\"\\n    ]\\n   }\\n  },\\n  {\\n   \"data\": {\\n    \"i\": \"Activation\",\\n    \"id\": 8,\\n    \"polarity\": \"positive\",\\n    \"source\": 7,\\n    \"target\": 5,\\n    \"uuid_list\": [\\n     \"74a6e6d4-5026-41fc-a778-d520da4349ee\"\\n    ]\\n   }\\n  },\\n  {\\n   \"data\": {\\n    \"i\": \"Activation\",\\n    \"id\": 10,\\n    \"polarity\": \"positive\",\\n    \"source\": 9,\\n    \"target\": 5,\\n    \"uuid_list\": [\\n     \"155f3e67-9c87-4c18-a67b-d3ea4afb243c\"\\n    ]\\n   }\\n  },\\n  {\\n   \"data\": {\\n    \"i\": \"Inhibition\",\\n    \"id\": 12,\\n    \"polarity\": \"negative\",\\n    \"source\": 0,\\n    \"target\": 11,\\n    \"uuid_list\": [\\n     \"bd419143-7155-4b37-b14e-987e1b2eb449\"\\n    ]\\n   }\\n  },\\n  {\\n   \"data\": {\\n    \"i\": \"Inhibition\",\\n    \"id\": 14,\\n    \"polarity\": \"negative\",\\n    \"source\": 13,\\n    \"target\": 5,\\n    \"uuid_list\": [\\n     \"65635bf0-ec7d-4270-b9df-d6e1666f71c0\"\\n    ]\\n   }\\n  },\\n  {\\n   \"data\": {\\n    \"i\": \"Inhibition\",\\n    \"id\": 16,\\n    \"polarity\": \"negative\",\\n    \"source\": 13,\\n    \"target\": 15,\\n    \"uuid_list\": [\\n     \"d003b21b-9511-49f0-9dce-6d69721af400\"\\n    ]\\n   }\\n  },\\n  {\\n   \"data\": {\\n    \"i\": \"Activation\",\\n    \"id\": 18,\\n    \"polarity\": \"positive\",\\n    \"source\": 17,\\n    \"target\": 0,\\n    \"uuid_list\": [\\n     \"923cba5f-df8c-43a1-972d-8fe19edcd07a\"\\n    ]\\n   }\\n  },\\n  {\\n   \"data\": {\\n    \"i\": \"Activation\",\\n    \"id\": 20,\\n    \"polarity\": \"positive\",\\n    \"source\": 19,\\n    \"target\": 0,\\n    \"uuid_list\": [\\n     \"9747c938-e3cb-410d-824d-d68234f4928f\"\\n    ]\\n   }\\n  },\\n  {\\n   \"data\": {\\n    \"i\": \"Inhibition\",\\n    \"id\": 22,\\n    \"polarity\": \"negative\",\\n    \"source\": 0,\\n    \"target\": 21,\\n    \"uuid_list\": [\\n     \"accef643-8555-4489-8d36-df211201d1d3\"\\n    ]\\n   }\\n  },\\n  {\\n   \"data\": {\\n    \"i\": \"Inhibition\",\\n    \"id\": 25,\\n    \"polarity\": \"negative\",\\n    \"source\": 23,\\n    \"target\": 24,\\n    \"uuid_list\": [\\n     \"0aeb0c13-8006-4bfb-8754-60bdeda1c8f0\"\\n    ]\\n   }\\n  },\\n  {\\n   \"data\": {\\n    \"i\": \"Activation\",\\n    \"id\": 26,\\n    \"polarity\": \"positive\",\\n    \"source\": 0,\\n    \"target\": 15,\\n    \"uuid_list\": [\\n     \"15efd3bc-362f-41f6-a583-91bf5ecc5397\"\\n    ]\\n   }\\n  },\\n  {\\n   \"data\": {\\n    \"i\": \"Activation\",\\n    \"id\": 27,\\n    \"polarity\": \"positive\",\\n    \"source\": 0,\\n    \"target\": 3,\\n    \"uuid_list\": [\\n     \"bc112839-09f8-4bd2-b096-d88cbbdc209c\"\\n    ]\\n   }\\n  },\\n  {\\n   \"data\": {\\n    \"i\": \"Inhibition\",\\n    \"id\": 30,\\n    \"polarity\": \"negative\",\\n    \"source\": 28,\\n    \"target\": 29,\\n    \"uuid_list\": [\\n     \"5cb7c6f9-7da1-4c99-a42e-141efc80adb3\"\\n    ]\\n   }\\n  },\\n  {\\n   \"data\": {\\n    \"i\": \"Inhibition\",\\n    \"id\": 33,\\n    \"polarity\": \"negative\",\\n    \"source\": 31,\\n    \"target\": 32,\\n    \"uuid_list\": [\\n     \"604c9972-af11-4767-86ef-8c1acdd95e6f\"\\n    ]\\n   }\\n  },\\n  {\\n   \"data\": {\\n    \"i\": \"Activation\",\\n    \"id\": 34,\\n    \"polarity\": \"positive\",\\n    \"source\": 17,\\n    \"target\": 15,\\n    \"uuid_list\": [\\n     \"68a837db-864d-460f-a19d-f987541292cd\"\\n    ]\\n   }\\n  }\\n ],\\n \"nodes\": [\\n  {\\n   \"data\": {\\n    \"db_refs\": {\\n     \"EGID\": \"https://identifiers.org/ncbigene:196\",\\n     \"HGNC\": \"https://identifiers.org/hgnc:348\",\\n     \"TEXT\": \"AhR\",\\n     \"UniProt\": \"https://identifiers.org/uniprot:P35869\"\\n    },\\n    \"id\": 0,\\n    \"members\": {},\\n    \"name\": \"AHR\",\\n    \"parent\": \"\",\\n    \"uuid_list\": [\\n     \"e19a4075-675e-4172-b040-bbc68c710eb5\",\\n     \"4763f508-e019-43f4-947d-d3f323838a63\",\\n     \"a2dcbd7d-9772-4e8a-bb7b-7a5d48c03ee9\",\\n     \"443a515c-4bd4-4f04-8b96-fdd76a5a71c3\",\\n     \"bd419143-7155-4b37-b14e-987e1b2eb449\",\\n     \"923cba5f-df8c-43a1-972d-8fe19edcd07a\",\\n     \"9747c938-e3cb-410d-824d-d68234f4928f\",\\n     \"16a53e1d-6161-4957-941d-5ad071b21129\",\\n     \"accef643-8555-4489-8d36-df211201d1d3\",\\n     \"e7422bc1-c86f-44d0-8dc2-aa11984263b9\",\\n     \"15efd3bc-362f-41f6-a583-91bf5ecc5397\",\\n     \"bc112839-09f8-4bd2-b096-d88cbbdc209c\"\\n    ]\\n   }\\n  },\\n  {\\n   \"data\": {\\n    \"db_refs\": {\\n     \"EGID\": \"https://identifiers.org/ncbigene:405\",\\n     \"HGNC\": \"https://identifiers.org/hgnc:700\",\\n     \"TEXT\": \"ARNT\",\\n     \"UniProt\": \"https://identifiers.org/uniprot:P27540\"\\n    },\\n    \"id\": 1,\\n    \"members\": {},\\n    \"name\": \"ARNT\",\\n    \"parent\": \"\",\\n    \"uuid_list\": [\\n     \"e19a4075-675e-4172-b040-bbc68c710eb5\"\\n    ]\\n   }\\n  },\\n  {\\n   \"data\": {\\n    \"db_refs\": {\\n     \"EGID\": \"https://identifiers.org/ncbigene:9644\",\\n     \"HGNC\": \"https://identifiers.org/hgnc:23664\",\\n     \"TEXT\": \"fish\",\\n     \"UniProt\": \"https://identifiers.org/uniprot:Q5TCZ1\"\\n    },\\n    \"id\": 3,\\n    \"members\": {},\\n    \"name\": \"SH3PXD2A\",\\n    \"parent\": \"\",\\n    \"uuid_list\": [\\n     \"4763f508-e019-43f4-947d-d3f323838a63\",\\n     \"16a53e1d-6161-4957-941d-5ad071b21129\",\\n     \"e7422bc1-c86f-44d0-8dc2-aa11984263b9\",\\n     \"bc112839-09f8-4bd2-b096-d88cbbdc209c\"\\n    ]\\n   }\\n  },\\n  {\\n   \"data\": {\\n    \"db_refs\": {\\n     \"GO\": \"https://identifiers.org/GO:0030154\",\\n     \"MESH\": \"https://identifiers.org/mesh:D002454\",\\n     \"TEXT\": \"differentiation\"\\n    },\\n    \"id\": 5,\\n    \"members\": {},\\n    \"name\": \"cell differentiation\",\\n    \"parent\": \"\",\\n    \"uuid_list\": [\\n     \"a2dcbd7d-9772-4e8a-bb7b-7a5d48c03ee9\",\\n     \"443a515c-4bd4-4f04-8b96-fdd76a5a71c3\",\\n     \"74a6e6d4-5026-41fc-a778-d520da4349ee\",\\n     \"155f3e67-9c87-4c18-a67b-d3ea4afb243c\",\\n     \"65635bf0-ec7d-4270-b9df-d6e1666f71c0\"\\n    ]\\n   }\\n  },\\n  {\\n   \"data\": {\\n    \"db_refs\": {\\n     \"TEXT\": \"receptor\"\\n    },\\n    \"id\": 7,\\n    \"members\": {},\\n    \"name\": \"receptor\",\\n    \"parent\": \"\",\\n    \"uuid_list\": [\\n     \"74a6e6d4-5026-41fc-a778-d520da4349ee\"\\n    ]\\n   }\\n  },\\n  {\\n   \"data\": {\\n    \"db_refs\": {\\n     \"EGID\": \"https://identifiers.org/ncbigene:613\",\\n     \"HGNC\": \"https://identifiers.org/hgnc:1014\",\\n     \"TEXT\": \"BCR\",\\n     \"UniProt\": \"https://identifiers.org/uniprot:P11274\"\\n    },\\n    \"id\": 9,\\n    \"members\": {},\\n    \"name\": \"BCR\",\\n    \"parent\": \"\",\\n    \"uuid_list\": [\\n     \"155f3e67-9c87-4c18-a67b-d3ea4afb243c\"\\n    ]\\n   }\\n  },\\n  {\\n   \"data\": {\\n    \"db_refs\": {\\n     \"ChEBI\": \"https://identifiers.org/CHEBI:89981\",\\n     \"MESH\": \"https://identifiers.org/mesh:D004731\",\\n     \"PubChem\": \"https://identifiers.org/pubchem.compound:53481793\",\\n     \"TEXT\": \"lipopolysaccharide\"\\n    },\\n    \"id\": 11,\\n    \"members\": {},\\n    \"name\": \"LPS with O-antigen\",\\n    \"parent\": \"\",\\n    \"uuid_list\": [\\n     \"bd419143-7155-4b37-b14e-987e1b2eb449\"\\n    ]\\n   }\\n  },\\n  {\\n   \"data\": {\\n    \"db_refs\": {\\n     \"GO\": \"https://identifiers.org/GO:0006915\",\\n     \"MESH\": \"https://identifiers.org/mesh:D017209\",\\n     \"TEXT\": \"apoptosis\"\\n    },\\n    \"id\": 13,\\n    \"members\": {},\\n    \"name\": \"apoptotic process\",\\n    \"parent\": \"\",\\n    \"uuid_list\": [\\n     \"65635bf0-ec7d-4270-b9df-d6e1666f71c0\",\\n     \"d003b21b-9511-49f0-9dce-6d69721af400\"\\n    ]\\n   }\\n  },\\n  {\\n   \"data\": {\\n    \"db_refs\": {\\n     \"GO\": \"https://identifiers.org/GO:0006955\",\\n     \"TEXT\": \"immunity\"\\n    },\\n    \"id\": 15,\\n    \"members\": {},\\n    \"name\": \"immune response\",\\n    \"parent\": \"\",\\n    \"uuid_list\": [\\n     \"d003b21b-9511-49f0-9dce-6d69721af400\",\\n     \"15efd3bc-362f-41f6-a583-91bf5ecc5397\",\\n     \"68a837db-864d-460f-a19d-f987541292cd\"\\n    ]\\n   }\\n  },\\n  {\\n   \"data\": {\\n    \"db_refs\": {\\n     \"TEXT\": \"PAHs\"\\n    },\\n    \"id\": 17,\\n    \"members\": {},\\n    \"name\": \"PAHs\",\\n    \"parent\": \"\",\\n    \"uuid_list\": [\\n     \"923cba5f-df8c-43a1-972d-8fe19edcd07a\",\\n     \"68a837db-864d-460f-a19d-f987541292cd\"\\n    ]\\n   }\\n  },\\n  {\\n   \"data\": {\\n    \"db_refs\": {\\n     \"TEXT\": \"HAHs\"\\n    },\\n    \"id\": 19,\\n    \"members\": {},\\n    \"name\": \"HAHs\",\\n    \"parent\": \"\",\\n    \"uuid_list\": [\\n     \"9747c938-e3cb-410d-824d-d68234f4928f\"\\n    ]\\n   }\\n  },\\n  {\\n   \"data\": {\\n    \"db_refs\": {\\n     \"TEXT\": \"CYP1A\",\\n     \"UniProt\": \"https://identifiers.org/uniprot:Q92039\"\\n    },\\n    \"id\": 21,\\n    \"members\": {},\\n    \"name\": \"cyp1a1\",\\n    \"parent\": \"\",\\n    \"uuid_list\": [\\n     \"accef643-8555-4489-8d36-df211201d1d3\"\\n    ]\\n   }\\n  },\\n  {\\n   \"data\": {\\n    \"db_refs\": {\\n     \"TEXT\": \"\\\\u00b5g/kg TCCD\"\\n    },\\n    \"id\": 23,\\n    \"members\": {},\\n    \"name\": \"\\\\u00b5g/kg TCCD\",\\n    \"parent\": \"\",\\n    \"uuid_list\": [\\n     \"0aeb0c13-8006-4bfb-8754-60bdeda1c8f0\"\\n    ]\\n   }\\n  },\\n  {\\n   \"data\": {\\n    \"db_refs\": {\\n     \"GO\": \"https://identifiers.org/GO:0008283\",\\n     \"MESH\": \"https://identifiers.org/mesh:D049109\",\\n     \"TEXT\": \"proliferation\"\\n    },\\n    \"id\": 24,\\n    \"members\": {},\\n    \"name\": \"cell population proliferation\",\\n    \"parent\": \"\",\\n    \"uuid_list\": [\\n     \"0aeb0c13-8006-4bfb-8754-60bdeda1c8f0\"\\n    ]\\n   }\\n  },\\n  {\\n   \"data\": {\\n    \"db_refs\": {\\n     \"EGID\": \"https://identifiers.org/ncbigene:4878\",\\n     \"HGNC\": \"https://identifiers.org/hgnc:7939\",\\n     \"TEXT\": \"ANF\",\\n     \"UniProt\": \"https://identifiers.org/uniprot:P01160\"\\n    },\\n    \"id\": 28,\\n    \"members\": {},\\n    \"name\": \"NPPA\",\\n    \"parent\": \"\",\\n    \"uuid_list\": [\\n     \"5cb7c6f9-7da1-4c99-a42e-141efc80adb3\"\\n    ]\\n   }\\n  },\\n  {\\n   \"data\": {\\n    \"db_refs\": {\\n     \"EGID\": \"https://identifiers.org/ncbigene:55364\",\\n     \"HGNC\": \"https://identifiers.org/hgnc:20387\",\\n     \"TEXT\": \"impact\",\\n     \"UniProt\": \"https://identifiers.org/uniprot:Q9P2X3\"\\n    },\\n    \"id\": 29,\\n    \"members\": {},\\n    \"name\": \"IMPACT\",\\n    \"parent\": \"\",\\n    \"uuid_list\": [\\n     \"5cb7c6f9-7da1-4c99-a42e-141efc80adb3\"\\n    ]\\n   }\\n  },\\n  {\\n   \"data\": {\\n    \"db_refs\": {\\n     \"ChEBI\": \"https://identifiers.org/CHEBI:30741\",\\n     \"PubChem\": \"https://identifiers.org/pubchem.compound:5461084\",\\n     \"TEXT\": \"EGTA\"\\n    },\\n    \"id\": 31,\\n    \"members\": {},\\n    \"name\": \"ethylene glycol bis(2-aminoethyl)tetraacetate\",\\n    \"parent\": \"\",\\n    \"uuid_list\": [\\n     \"604c9972-af11-4767-86ef-8c1acdd95e6f\"\\n    ]\\n   }\\n  },\\n  {\\n   \"data\": {\\n    \"db_refs\": {\\n     \"EGID\": \"https://identifiers.org/ncbigene:3569\",\\n     \"HGNC\": \"https://identifiers.org/hgnc:6018\",\\n     \"TEXT\": \"IL-6\",\\n     \"UniProt\": \"https://identifiers.org/uniprot:P05231\"\\n    },\\n    \"id\": 32,\\n    \"members\": {},\\n    \"name\": \"IL6\",\\n    \"parent\": \"\",\\n    \"uuid_list\": [\\n     \"604c9972-af11-4767-86ef-8c1acdd95e6f\"\\n    ]\\n   }\\n  }\\n ]\\n}'"
      ]
     },
     "execution_count": 5,
     "metadata": {},
     "output_type": "execute_result"
    }
   ],
   "source": [
    "### assembel different statements to generate the network\n",
    "from indra.assemblers.cyjs.assembler import CyJSAssembler\n",
    "CyJS_Assembler = CyJSAssembler(processed_paper.statements)\n",
    "CyJS_Assembler.make_model()"
   ]
  },
  {
   "cell_type": "code",
   "execution_count": 6,
   "id": "448cbb78",
   "metadata": {},
   "outputs": [],
   "source": [
    "### saving model in json format for visualization in cytoscape library\n",
    "CyJS_Assembler.save_model(\"Example-model\")\n",
    "CyJS_Assembler.save_json(\"Example\")"
   ]
  },
  {
   "cell_type": "code",
   "execution_count": 1,
   "id": "07ca453e",
   "metadata": {},
   "outputs": [],
   "source": [
    "import ipycytoscape"
   ]
  },
  {
   "cell_type": "code",
   "execution_count": 2,
   "id": "69a9064b",
   "metadata": {},
   "outputs": [],
   "source": [
    "import json\n",
    "with open(\"Example.json\") as f1:\n",
    "    json_file = json.load(f1)"
   ]
  },
  {
   "cell_type": "code",
   "execution_count": 3,
   "id": "637842e0",
   "metadata": {},
   "outputs": [],
   "source": [
    "my_style = [{\n",
    "                        'selector': 'node',\n",
    "                        'css': {\n",
    "                            'content': 'data(name)',\n",
    "                            'text-valign': 'center',\n",
    "                            'color': 'white',\n",
    "                            'text-outline-width': 2,\n",
    "                            'text-outline-color': 'green',\n",
    "                            'background-color': 'green',\n",
    "                            'shape':'round-rectangle'\n",
    "                        }\n",
    "                        },\n",
    "                        {\n",
    "                        'selector': ':selected',\n",
    "                        'css': {\n",
    "                            'background-color': 'black',\n",
    "                            'line-color': 'black',\n",
    "                            'target-arrow-color': 'black',\n",
    "                            'source-arrow-color': 'black',\n",
    "                            'text-outline-color': 'black'\n",
    "                        }}\n",
    "                        ]"
   ]
  },
  {
   "cell_type": "code",
   "execution_count": 4,
   "id": "8b64ec07",
   "metadata": {},
   "outputs": [],
   "source": [
    "obj = ipycytoscape.CytoscapeWidget()\n",
    "obj.graph.add_graph_from_json(json_file)\n",
    "obj.set_style(my_style)"
   ]
  },
  {
   "cell_type": "code",
   "execution_count": 5,
   "id": "234ae849",
   "metadata": {},
   "outputs": [],
   "source": [
    "obj.set_layout(name=\"cola\",\n",
    "              nodeSpacing=5,\n",
    "              edgeLengthVal=45,\n",
    "              animate=True,\n",
    "              randomize=False,\n",
    "              maxSimulationTime=1500)"
   ]
  },
  {
   "cell_type": "code",
   "execution_count": 6,
   "id": "4f73827d",
   "metadata": {},
   "outputs": [
    {
     "data": {
      "application/vnd.jupyter.widget-view+json": {
       "model_id": "2340392e593a466397530766064cbe54",
       "version_major": 2,
       "version_minor": 0
      },
      "text/plain": [
       "CytoscapeWidget(cytoscape_layout={'name': 'cola', 'nodeSpacing': 5, 'edgeLengthVal': 45, 'animate': True, 'ran…"
      ]
     },
     "metadata": {},
     "output_type": "display_data"
    }
   ],
   "source": [
    "obj"
   ]
  },
  {
   "cell_type": "code",
   "execution_count": null,
   "id": "f45cd583",
   "metadata": {},
   "outputs": [],
   "source": []
  }
 ],
 "metadata": {
  "kernelspec": {
   "display_name": "Python 3 (ipykernel)",
   "language": "python",
   "name": "python3"
  },
  "language_info": {
   "codemirror_mode": {
    "name": "ipython",
    "version": 3
   },
   "file_extension": ".py",
   "mimetype": "text/x-python",
   "name": "python",
   "nbconvert_exporter": "python",
   "pygments_lexer": "ipython3",
   "version": "3.9.13"
  }
 },
 "nbformat": 4,
 "nbformat_minor": 5
}
